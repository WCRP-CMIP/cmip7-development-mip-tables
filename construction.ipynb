{
 "cells": [
  {
   "cell_type": "code",
   "execution_count": 1,
   "id": "2fbb9063-fc06-4689-88db-95cb4c24f4f7",
   "metadata": {},
   "outputs": [],
   "source": [
    "import data_request_api\n",
    "import json\n",
    "from collections import defaultdict\n",
    "import datetime"
   ]
  },
  {
   "cell_type": "code",
   "execution_count": 2,
   "id": "a6f908b2-ac1e-4447-a901-152938033e79",
   "metadata": {},
   "outputs": [],
   "source": [
    "import data_request_api.content.dreq_content as dc\n",
    "import data_request_api.query.dreq_query as dq\n",
    "\n",
    "use_dreq_version = 'v1.2.1'\n",
    "content = dc.load(use_dreq_version)#, offline=True)"
   ]
  },
  {
   "cell_type": "markdown",
   "id": "632b5f5a-5344-4478-851b-1aa43a6d2917",
   "metadata": {},
   "source": [
    "# TABLE CONSTRUCTION"
   ]
  },
  {
   "cell_type": "code",
   "execution_count": 3,
   "id": "03cf2a9b-7197-4e8f-8151-e4b1744e4cdd",
   "metadata": {},
   "outputs": [],
   "source": [
    "all_var_info = dq.get_variables_metadata(content, use_dreq_version)"
   ]
  },
  {
   "cell_type": "code",
   "execution_count": 4,
   "id": "242cffe4-830b-4796-b27c-fb44c920c8a0",
   "metadata": {},
   "outputs": [],
   "source": [
    "# all_var_info = json.loads(json.dumps(all_var_info))"
   ]
  },
  {
   "cell_type": "code",
   "execution_count": 5,
   "id": "f2f706e9-77d3-4de6-ba6d-2bc9aabdb36a",
   "metadata": {},
   "outputs": [],
   "source": [
    "def entry_to_cmorvar(entry):\n",
    "    simple_entries = [\"cell_measures\", \"cell_methods\", \"comment\", \"out_name\", \"positive\", \"units\", \n",
    "                      \"long_name\", \"standard_name\", \"branded_variable_name\"]\n",
    "    cmorvar = {i:entry[i] for i in simple_entries}\n",
    "    cmorvar['brand_description'] = '?'\n",
    "    cmorvar['dimensions'] = entry['dimensions'].split()\n",
    "    cmorvar['realm'] = [entry['modeling_realm']]\n",
    "    cmorvar['long_name'] = entry['long_name']\n",
    "\n",
    "    return cmorvar\n",
    "    "
   ]
  },
  {
   "cell_type": "code",
   "execution_count": 6,
   "id": "6f1cb144-dd0b-453c-9aa0-2d6da05e90a5",
   "metadata": {},
   "outputs": [],
   "source": [
    "cmorvars = [entry_to_cmorvar(i) for i in all_var_info.values()]"
   ]
  },
  {
   "cell_type": "code",
   "execution_count": 7,
   "id": "b4421838-d2ce-4d24-b4e7-e7436c0e0fc8",
   "metadata": {},
   "outputs": [],
   "source": [
    "\n",
    "\n",
    "tables = defaultdict(dict)"
   ]
  },
  {
   "cell_type": "code",
   "execution_count": 8,
   "id": "adf8d35a-768f-45d4-9ba1-8caa18f358c9",
   "metadata": {},
   "outputs": [],
   "source": [
    "for v in all_var_info.values():\n",
    "    cmorvar = entry_to_cmorvar(v)\n",
    "    tables[cmorvar[\"realm\"][0]][cmorvar[\"branded_variable_name\"]] = cmorvar"
   ]
  },
  {
   "cell_type": "code",
   "execution_count": 9,
   "id": "eaef752e-b4ec-43fe-8d9e-d10e066ab0d2",
   "metadata": {},
   "outputs": [],
   "source": [
    "GENERIC_LEVELS = {\n",
    "    'atmos': \"alevel alevhalf\", \n",
    "    'land': \"\", \n",
    "    'ocean': \"olevel olevhalf\", \n",
    "    'aerosol': \"alevel alevhalf\", \n",
    "    'atmosChem': \"alevel alevhalf\",\n",
    "    'landIce': \"\", \n",
    "    'ocnBgchem': \"olevel olevhalf\", \n",
    "    'seaIce': \"olevel olevhalf\"\n",
    "}\n",
    "\n",
    "TIMESTAMP = datetime.datetime.today().strftime(\"%Y-%m-%d %T\")\n",
    "\n",
    "def write_table(tables):\n",
    "    for realm in tables:\n",
    "        template = {\n",
    "            \"Header\":{\n",
    "                \"Conventions\": \"CMIP7-TESTING\",\n",
    "                \"checksum\": \"unknown\",\n",
    "                \"cmor_version\": \"3.10\",\n",
    "                \"generic_levels\": GENERIC_LEVELS[realm],\n",
    "                \"int_missing_value\": \"-999\",\n",
    "                \"missing_value\": \"1e20\",\n",
    "                \"ok_max_mean_abs\": \"\",\n",
    "                \"ok_min_mean_abs\": \"\",\n",
    "                \"positive\": \"\",\n",
    "                \"product\": \"model-output\",\n",
    "                \"realm\": realm,\n",
    "                \"table_date\": TIMESTAMP,\n",
    "                \"table_id\": realm,\n",
    "                \"type\": \"real\",\n",
    "                \"valid_max\": \"\",\n",
    "                \"valid_min\": \"\"\n",
    "            },\n",
    "            \"variable_entry\":{}\n",
    "        }\n",
    "        for v, cmorvar in tables[realm].items():\n",
    "            \n",
    "            for i in ['branded_variable_name', 'realm']:\n",
    "                if i in cmorvar:\n",
    "                    del cmorvar[i]\n",
    "            template['variable_entry'][v] = cmorvar\n",
    "        with open('development-tables/CMIP7_{}.json'.format(realm), 'w') as fh:\n",
    "            json.dump(template, fh, indent=4, sort_keys=True)\n",
    "    "
   ]
  },
  {
   "cell_type": "code",
   "execution_count": 10,
   "id": "bbd1d94f-96a1-42fb-9ca3-cb9425b8c9d2",
   "metadata": {},
   "outputs": [],
   "source": [
    "write_table(tables)"
   ]
  },
  {
   "cell_type": "markdown",
   "id": "22680475-f225-4329-a2bb-d7b903de4a9c",
   "metadata": {},
   "source": [
    "# COORDINATE FILE CONSTRUCTION"
   ]
  },
  {
   "cell_type": "code",
   "execution_count": 11,
   "id": "773c3582-02fb-4683-8f1b-ac634023308e",
   "metadata": {},
   "outputs": [],
   "source": [
    "coords = content['Data Request v1.2.1']['Coordinates and Dimensions']"
   ]
  },
  {
   "cell_type": "code",
   "execution_count": 12,
   "id": "2d60d548-6b1f-4562-9965-18f2ae4bcd4e",
   "metadata": {},
   "outputs": [],
   "source": [
    "def coord_to_entry(coord):\n",
    "    name = coord.name\n",
    "    entry = {}\n",
    "    mapping = {\n",
    "        'axis': 'axis_flag',\n",
    "        'bounds_values': 'bounds_scalar', \n",
    "        'climatology': 'climatology_flag',\n",
    "        'formula': None,  # does not exist\n",
    "        'generic_level_name': None,  # does not exist\n",
    "        'long_name': 'title',\n",
    "        'must_have_bounds': 'bounds_flag',\n",
    "        'out_name': 'output_name',\n",
    "        'positive': 'positive_direction',\n",
    "        'requested': 'requested_values',\n",
    "        'requested_bounds': 'requested_bounds',\n",
    "        'standard_name': 'cf_standard_name',\n",
    "        'stored_direction': 'stored_direction',\n",
    "        'tolerance': 'tolerance',\n",
    "        'type': 'type',\n",
    "        'units': 'units',\n",
    "        'valid_max': 'maximum_valid_value',\n",
    "        'valid_min': 'minimum_valid_value',\n",
    "        'value': 'value_scalar_or_string',\n",
    "        'z_bounds_factors': None,\n",
    "        'z_factors': None,\n",
    "    }\n",
    "    \n",
    "    for cmor_key, dr_key in mapping.items():\n",
    "        if dr_key is None:\n",
    "            value = ''\n",
    "        else:\n",
    "            value = getattr(coord, dr_key, '')\n",
    "        if isinstance(value, str):\n",
    "            value = value.replace(',', '')\n",
    "        entry[cmor_key] = value\n",
    "    \n",
    "    # deal with yes no fields\n",
    "    if entry['must_have_bounds']:\n",
    "        entry['must_have_bounds'] = \"yes\"\n",
    "    else:\n",
    "        entry['must_have_bounds'] = \"no\"\n",
    "    # deal with lists\n",
    "    if entry['requested']:\n",
    "        try:\n",
    "            entry['requested'] = ['{:.1f}'.format(float(i)) for i in entry['requested'].split()]\n",
    "        except ValueError:\n",
    "            entry['requested'] = ''\n",
    "    if entry['requested_bounds']:\n",
    "        entry['requested_bounds'] = ['{:.1f}'.format(float(i)) for i in entry['requested_bounds'].split()]\n",
    "\n",
    "    # convert numbers to strings (even if they are zero)\n",
    "    for i in ['tolerance', 'valid_max', 'valid_min']:\n",
    "        if entry[i] != \"\":\n",
    "            entry[i] = str(entry[i])\n",
    "\n",
    "    return name, entry    \n",
    "\n",
    "     "
   ]
  },
  {
   "cell_type": "markdown",
   "id": "94340e11-a37c-4343-a855-e18e102e6496",
   "metadata": {},
   "source": [
    "Construct coordinates dictionary"
   ]
  },
  {
   "cell_type": "code",
   "execution_count": 13,
   "id": "a49fc934-11ab-40a8-a7dc-827903987b3b",
   "metadata": {},
   "outputs": [],
   "source": [
    "coordinates = {}\n",
    "\n",
    "for coord in coords.records.values():\n",
    "    name, entry = coord_to_entry(coord)\n",
    "    coordinates[name] = entry\n"
   ]
  },
  {
   "cell_type": "code",
   "execution_count": 14,
   "id": "009413d1-9950-44fa-a0ee-5d231e248c9b",
   "metadata": {},
   "outputs": [],
   "source": [
    "reference = json.load(open('reference/MIP_coordinate.json'))"
   ]
  },
  {
   "cell_type": "code",
   "execution_count": 15,
   "id": "85547637-6b51-4de3-87ce-cff08c1f8d0d",
   "metadata": {},
   "outputs": [],
   "source": [
    "keys_to_drop_from_dr = [\n",
    "    'alevel',\n",
    "    'alevhalf',\n",
    "    'olevel',\n",
    "    'olevhalf',\n",
    "]\n",
    "\n",
    "# keys_that_cause_cmor_failure = [\n",
    "#     'xant',\n",
    "#     'yant',\n",
    "#     'xgre',\n",
    "#     'ygre'\n",
    "# ]\n",
    "\n",
    "# for k in keys_to_drop_from_dr + keys_that_cause_cmor_failure:\n",
    "#     if k in coordinates:\n",
    "#         del coordinates[k]\n",
    "\n",
    "keys_to_import = [\n",
    "    'alternate_hybrid_sigma',\n",
    "    'alternate_hybrid_sigma_half',\n",
    "    'depth_coord',\n",
    "    'depth_coord_half',\n",
    "    'hybrid_height',\n",
    "    'hybrid_height_half',\n",
    "    'ocean_sigma',\n",
    "    'ocean_sigma_half',\n",
    "    'ocean_sigma_z',\n",
    "    'ocean_sigma_z_half',\n",
    "    'standard_hybrid_sigma',\n",
    "    'standard_hybrid_sigma_half',\n",
    "    'standard_sigma',\n",
    "    'standard_sigma_half']\n",
    "\n",
    "for k in keys_to_import:\n",
    "    coordinates[k] = reference['axis_entry'][k]\n"
   ]
  },
  {
   "cell_type": "code",
   "execution_count": 16,
   "id": "f7c0180b-6e59-47a0-9fa8-4b07b4d7118a",
   "metadata": {},
   "outputs": [],
   "source": [
    "with open('development-tables/CMIP7_{}.json'.format('coordinate'), 'w') as fh:\n",
    "    json.dump({'axis_entry': coordinates}, fh, indent=4, sort_keys=True)"
   ]
  },
  {
   "cell_type": "markdown",
   "id": "e3861761-e939-4a68-a2f7-420e657947cc",
   "metadata": {},
   "source": [
    "# ancillary files\n",
    "(From mip-cmor-tables)"
   ]
  },
  {
   "cell_type": "code",
   "execution_count": 17,
   "id": "e82e85d6-a02d-4008-89a3-a8eb7db3771e",
   "metadata": {},
   "outputs": [],
   "source": [
    "! cp reference/MIP_formula_terms.json development-tables/CMIP7_formula_terms.json\n",
    "! cp reference/MIP_grids.json development-tables/CMIP7_grids.json"
   ]
  },
  {
   "cell_type": "markdown",
   "id": "df8c6782-2313-4763-a082-a49efc37d7b6",
   "metadata": {},
   "source": [
    "# CVs\n",
    "\n",
    "(from CMOR TestTables directory)"
   ]
  },
  {
   "cell_type": "code",
   "execution_count": 18,
   "id": "251d4031-8313-4255-9f0b-abf4af33ff8b",
   "metadata": {},
   "outputs": [],
   "source": [
    "! cp reference/CMIP7_CV.json development-tables/CMIP7_CV.json"
   ]
  },
  {
   "cell_type": "code",
   "execution_count": null,
   "id": "07154f09-8378-4962-91e9-564b9dad9cce",
   "metadata": {},
   "outputs": [],
   "source": []
  }
 ],
 "metadata": {
  "kernelspec": {
   "display_name": ".conda-cmip7-development-cmor-tables Python (Conda)",
   "language": "python",
   "name": "conda-env-.conda-cmip7-development-cmor-tables-py"
  },
  "language_info": {
   "codemirror_mode": {
    "name": "ipython",
    "version": 3
   },
   "file_extension": ".py",
   "mimetype": "text/x-python",
   "name": "python",
   "nbconvert_exporter": "python",
   "pygments_lexer": "ipython3",
   "version": "3.12.10"
  }
 },
 "nbformat": 4,
 "nbformat_minor": 5
}
