{
 "cells": [
  {
   "cell_type": "markdown",
   "id": "7108c0a5-cf7d-44fb-b124-a4f7479b23a9",
   "metadata": {},
   "source": [
    "# CMOR example with prototype CMIP7 tables/CVs"
   ]
  },
  {
   "cell_type": "markdown",
   "id": "d7565f6c-a9d2-4d7b-bb62-793857453200",
   "metadata": {},
   "source": [
    "This code is a demonstration of the use of CMOR with prototype CMIP7 CVs and tables. This will require a conda environment in which CMOR 3.10.0 has been installed\n",
    "\n",
    "Please note that file and directory names required for CMIP7 have not been confirmed yet, this is just a limited demonstration."
   ]
  },
  {
   "cell_type": "code",
   "execution_count": 1,
   "id": "8ea3ef77-a3f1-483e-8a9d-05781bceda6f",
   "metadata": {},
   "outputs": [
    {
     "name": "stdout",
     "output_type": "stream",
     "text": [
      "CPU times: user 2 μs, sys: 1 μs, total: 3 μs\n",
      "Wall time: 5.48 μs\n"
     ]
    }
   ],
   "source": [
    "%time\n",
    "import cmor\n",
    "import numpy \n",
    "import json"
   ]
  },
  {
   "cell_type": "markdown",
   "id": "db89936e-d806-4b95-942c-33d81f58d408",
   "metadata": {},
   "source": [
    "The following is adapted from the code at https://github.com/PCMDI/cmor/blob/main/Test/test_cmor_CMIP7.py"
   ]
  },
  {
   "cell_type": "markdown",
   "id": "e026c4e5-3bd2-4d8e-a34f-c7e1d81240c3",
   "metadata": {},
   "source": [
    "Construct the input json file for CMOR\n"
   ]
  },
  {
   "cell_type": "code",
   "execution_count": 2,
   "id": "a36f5a25-658b-4eb2-8195-ff389d37c058",
   "metadata": {},
   "outputs": [
    {
     "name": "stdout",
     "output_type": "stream",
     "text": [
      "CPU times: user 2 μs, sys: 1 μs, total: 3 μs\n",
      "Wall time: 5.01 μs\n"
     ]
    }
   ],
   "source": [
    "%time\n",
    "DATASET_INFO = {\n",
    "    \"_AXIS_ENTRY_FILE\": \"development-tables/CMIP7_coordinate.json\",\n",
    "    \"_FORMULA_VAR_FILE\": \"development-tables/CMIP7_formula_terms.json\",\n",
    "    \"_cmip7_option\": 1,\n",
    "    \"_controlled_vocabulary_file\": \"development-tables/CMIP7_CV.json\",\n",
    "    \"activity_id\": \"CMIP\",\n",
    "    \"branch_method\": \"standard\",\n",
    "    \"branch_time_in_child\": 30.0,\n",
    "    \"branch_time_in_parent\": 10800.0,\n",
    "    \"calendar\": \"360_day\",\n",
    "    \"cv_version\": \"7.0.0.0\",\n",
    "    \"experiment\": \"1 percent per year increase in CO2\",\n",
    "    \"experiment_id\": \"1pctCO2\",\n",
    "    \"forcing_index\": \"3\",\n",
    "    \"grid\": \"N96\",\n",
    "    \"grid_label\": \"gn\",\n",
    "    \"initialization_index\": \"1\",\n",
    "    \"institution_id\": \"PCMDI\",\n",
    "    \"license\": \"CC BY 4.0\",\n",
    "    \"nominal_resolution\": \"250 km\",\n",
    "    \"outpath\": \".\",\n",
    "    \"parent_mip_era\": \"CMIP7\",\n",
    "    \"parent_time_units\": \"days since 1850-01-01\",\n",
    "    \"parent_activity_id\": \"CMIP\",\n",
    "    \"parent_source_id\": \"PCMDI-test-1-0\",\n",
    "    \"parent_experiment_id\": \"piControl\",\n",
    "    \"parent_variant_label\": \"r1i1p1f3\",\n",
    "    \"physics_index\": \"1\",\n",
    "    \"realization_index\": \"9\",\n",
    "    \"source_id\": \"PCMDI-test-1-0\",\n",
    "    \"source_type\": \"AOGCM CHEM BGC\",\n",
    "    \"tracking_prefix\": \"hdl:21.14100\",\n",
    "    \"host_collection\": \"CMIP7\",\n",
    "    \"frequency\": \"day\",\n",
    "    \"region\": \"glb\",\n",
    "    \"archive_id\": \"WCRP\",\n",
    "    \"mip_era\": \"CMIP7\",\n",
    "    \"output_path_template\": \"<mip_era><activity_id><source_id><experiment_id><member_id><realm><frequency><variable_id><branding_suffix><grid_label><version>\",\n",
    "    \"output_file_template\": \"<variable_id><branding_suffix><frequency><region><grid_label><source_id><experiment_id><variant_label>\",\n",
    "}\n",
    "\n",
    "with open('input.json', 'w') as fh:\n",
    "    json.dump(DATASET_INFO, fh, indent=2)"
   ]
  },
  {
   "cell_type": "code",
   "execution_count": 3,
   "id": "ea8c425e-0b11-4a7d-aab0-cf95df843d9f",
   "metadata": {},
   "outputs": [
    {
     "name": "stdout",
     "output_type": "stream",
     "text": [
      "CPU times: user 1 μs, sys: 0 ns, total: 1 μs\n",
      "Wall time: 4.53 μs\n"
     ]
    }
   ],
   "source": [
    "%time\n",
    "cmor.setup(inpath=\"development-tables\", netcdf_file_action=cmor.CMOR_REPLACE)\n",
    "\n",
    "cmor.dataset_json('input.json')\n",
    "\n",
    "tos = numpy.array([27, 27, 27, 27,\n",
    "                    27, 27, 27, 27,\n",
    "                    27, 27, 27, 27,\n",
    "                    27, 27, 27, 27,\n",
    "                    27, 27, 27, 27,\n",
    "                    27, 27, 27, 27\n",
    "                    ])\n",
    "tos.shape = (2, 3, 4)\n",
    "lat = numpy.array([10, 20, 30])\n",
    "lat_bnds = numpy.array([5, 15, 25, 35])\n",
    "lon = numpy.array([0, 90, 180, 270])\n",
    "lon_bnds = numpy.array([-45, 45,\n",
    "                        135,\n",
    "                        225,\n",
    "                        315\n",
    "                        ])\n",
    "time = numpy.array([15.5, 16.5])\n",
    "time_bnds = numpy.array([15, 16, 17])"
   ]
  },
  {
   "cell_type": "code",
   "execution_count": null,
   "id": "7cadff79-d0df-4fbd-8543-da5e96e13a30",
   "metadata": {},
   "outputs": [],
   "source": [
    "%time\n",
    "cmor.load_table(\"CMIP7_ocean.json\")"
   ]
  },
  {
   "cell_type": "code",
   "execution_count": null,
   "id": "c4590918-dc87-498b-a491-fa5c793b7423",
   "metadata": {},
   "outputs": [],
   "source": [
    "%time\n",
    "cmorlat = cmor.axis(\"latitude\",\n",
    "                    coord_vals=lat,\n",
    "                    cell_bounds=lat_bnds,\n",
    "                    units=\"degrees_north\")\n",
    "cmorlon = cmor.axis(\"longitude\",\n",
    "                    coord_vals=lon,\n",
    "                    cell_bounds=lon_bnds,\n",
    "                    units=\"degrees_east\")\n",
    "cmortime = cmor.axis(\"time\",\n",
    "                    coord_vals=time,\n",
    "                    cell_bounds=time_bnds,\n",
    "                    units=\"days since 2018\")\n",
    "axes = [cmortime, cmorlat, cmorlon]"
   ]
  },
  {
   "cell_type": "code",
   "execution_count": null,
   "id": "8e979027-9e52-48e0-b5cc-aa414362cdf3",
   "metadata": {},
   "outputs": [],
   "source": [
    "cmortos = cmor.variable(\"tos_tavg-u-hxy-sea\", \"degC\", axes)"
   ]
  },
  {
   "cell_type": "code",
   "execution_count": null,
   "id": "f779b96a-20f7-4e5a-b915-c1755b8d9d1d",
   "metadata": {},
   "outputs": [],
   "source": [
    "cmor.write(cmortos, tos)\n",
    "filename = cmor.close(cmortos, file_name=True)"
   ]
  },
  {
   "cell_type": "markdown",
   "id": "71cd04d0-ea27-4877-b259-adf84bf3b694",
   "metadata": {},
   "source": [
    "Locate generated file"
   ]
  },
  {
   "cell_type": "code",
   "execution_count": null,
   "id": "325b17ff-f535-4553-919a-40ed099c8378",
   "metadata": {},
   "outputs": [],
   "source": [
    "!find CMIP7 -type f -name *.nc"
   ]
  },
  {
   "cell_type": "markdown",
   "id": "f7a3343c-95d6-4b94-b8b0-d9f4f35356e4",
   "metadata": {},
   "source": [
    "Dump header of generated file"
   ]
  },
  {
   "cell_type": "code",
   "execution_count": null,
   "id": "0a6aee11-0970-405d-9b47-b03e190f21aa",
   "metadata": {},
   "outputs": [],
   "source": [
    "!ncdump -h CMIP7/CMIP/PCMDI-test-1-0/1pctCO2/r9i1p1f3/ocean/day/tos/tavg-u-hxy-sea/gn/*/tos_tavg-u-hxy-sea_day_glb_gn_PCMDI-test-1-0_1pctCO2_r9i1p1f3_20180116-20180117.nc"
   ]
  },
  {
   "cell_type": "code",
   "execution_count": null,
   "id": "a8610a45-0034-4c5a-9ba2-a438caeaab6a",
   "metadata": {},
   "outputs": [],
   "source": [
    "# clean up\n",
    "! rm -rf CMIP7\n",
    "! rm -rf input.json"
   ]
  },
  {
   "cell_type": "code",
   "execution_count": null,
   "id": "0ce006a4-8c5a-481d-92cd-37944c4f0a17",
   "metadata": {},
   "outputs": [],
   "source": []
  },
  {
   "cell_type": "code",
   "execution_count": null,
   "id": "d9b78fb4-ce24-4228-b309-e7cd6bdd3ce6",
   "metadata": {},
   "outputs": [],
   "source": []
  }
 ],
 "metadata": {
  "kernelspec": {
   "display_name": ".conda-cmip7-development-cmor-tables Python (Conda)",
   "language": "python",
   "name": "conda-env-.conda-cmip7-development-cmor-tables-py"
  },
  "language_info": {
   "codemirror_mode": {
    "name": "ipython",
    "version": 3
   },
   "file_extension": ".py",
   "mimetype": "text/x-python",
   "name": "python",
   "nbconvert_exporter": "python",
   "pygments_lexer": "ipython3",
   "version": "3.12.10"
  }
 },
 "nbformat": 4,
 "nbformat_minor": 5
}
