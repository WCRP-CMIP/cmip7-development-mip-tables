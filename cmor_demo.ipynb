{
 "cells": [
  {
   "cell_type": "markdown",
   "id": "7108c0a5-cf7d-44fb-b124-a4f7479b23a9",
   "metadata": {},
   "source": [
    "# CMOR example with prototype CMIP7 tables/CVs"
   ]
  },
  {
   "cell_type": "markdown",
   "id": "d7565f6c-a9d2-4d7b-bb62-793857453200",
   "metadata": {},
   "source": [
    "This code is a demonstration of the use of CMOR with prototype CMIP7 CVs and tables. This will require a conda environment in which CMOR 3.10.0 has been installed\n",
    "\n",
    "Please note that file and directory names required for CMIP7 have not been confirmed yet, this is just a limited demonstration.\n",
    "\n",
    "PJD  9 Jun 2025 - updated to redefine `license` -> `license_id` in the DATASET_INFO"
   ]
  },
  {
   "cell_type": "code",
   "execution_count": 1,
   "id": "8ea3ef77-a3f1-483e-8a9d-05781bceda6f",
   "metadata": {},
   "outputs": [
    {
     "name": "stdout",
     "output_type": "stream",
     "text": [
      "CPU times: user 5 μs, sys: 2 μs, total: 7 μs\n",
      "Wall time: 14.1 μs\n"
     ]
    }
   ],
   "source": [
    "%time\n",
    "import cmor\n",
    "import json\n",
    "import numpy\n",
    "import os"
   ]
  },
  {
   "cell_type": "markdown",
   "id": "db89936e-d806-4b95-942c-33d81f58d408",
   "metadata": {},
   "source": [
    "The following is adapted from the code at https://github.com/PCMDI/cmor/blob/main/Test/test_cmor_CMIP7.py"
   ]
  },
  {
   "cell_type": "markdown",
   "id": "e6febd02-b4da-4eed-aa22-2031fc778906",
   "metadata": {},
   "source": [
    "# Get CWD"
   ]
  },
  {
   "cell_type": "code",
   "execution_count": 2,
   "id": "a19a1df2-1a71-4321-b3ff-c28ba160489f",
   "metadata": {},
   "outputs": [
    {
     "name": "stdout",
     "output_type": "stream",
     "text": [
      "/Users/durack1/sync/git/cmip7-development-mip-tables\n"
     ]
    }
   ],
   "source": [
    "print(os.getcwd())"
   ]
  },
  {
   "cell_type": "markdown",
   "id": "e026c4e5-3bd2-4d8e-a34f-c7e1d81240c3",
   "metadata": {},
   "source": [
    "# Construct the CMOR input json file"
   ]
  },
  {
   "cell_type": "code",
   "execution_count": 3,
   "id": "a36f5a25-658b-4eb2-8195-ff389d37c058",
   "metadata": {},
   "outputs": [
    {
     "name": "stdout",
     "output_type": "stream",
     "text": [
      "CPU times: user 1 μs, sys: 0 ns, total: 1 μs\n",
      "Wall time: 3.1 μs\n"
     ]
    }
   ],
   "source": [
    "%time\n",
    "DATASET_INFO = {\n",
    "    \"_AXIS_ENTRY_FILE\": \"development-tables/CMIP7_coordinate.json\",\n",
    "    \"_FORMULA_VAR_FILE\": \"development-tables/CMIP7_formula_terms.json\",\n",
    "    \"_cmip7_option\": 1,\n",
    "    \"_controlled_vocabulary_file\": \"development-tables/CMIP7_CV.json\",\n",
    "    \"activity_id\": \"CMIP\",\n",
    "    \"branch_method\": \"standard\",\n",
    "    \"branch_time_in_child\": 30.0,\n",
    "    \"branch_time_in_parent\": 10800.0,\n",
    "    \"calendar\": \"360_day\",\n",
    "    \"cv_version\": \"7.0.0.0\",\n",
    "    \"experiment\": \"1 percent per year increase in CO2\",\n",
    "    \"experiment_id\": \"1pctCO2\",\n",
    "    \"forcing_index\": \"3\",\n",
    "    \"grid\": \"N96\",\n",
    "    \"grid_label\": \"gn\",\n",
    "    \"initialization_index\": \"1\",\n",
    "    \"institution_id\": \"PCMDI\",\n",
    "    \"license_id\": \"CC BY 4.0\",\n",
    "    \"nominal_resolution\": \"250 km\",\n",
    "    \"outpath\": \".\",\n",
    "    \"parent_mip_era\": \"CMIP7\",\n",
    "    \"parent_time_units\": \"days since 1850-01-01\",\n",
    "    \"parent_activity_id\": \"CMIP\",\n",
    "    \"parent_source_id\": \"PCMDI-test-1-0\",\n",
    "    \"parent_experiment_id\": \"piControl\",\n",
    "    \"parent_variant_label\": \"r1i1p1f3\",\n",
    "    \"physics_index\": \"1\",\n",
    "    \"realization_index\": \"9\",\n",
    "    \"source_id\": \"PCMDI-test-1-0\",\n",
    "    \"source_type\": \"AOGCM CHEM BGC\",\n",
    "    \"tracking_prefix\": \"hdl:21.14100\",\n",
    "    \"host_collection\": \"CMIP7\",\n",
    "    \"frequency\": \"day\",\n",
    "    \"region\": \"glb\",\n",
    "    \"archive_id\": \"WCRP\",\n",
    "    \"mip_era\": \"CMIP7\",\n",
    "    \"output_path_template\": \"<mip_era><activity_id><source_id><experiment_id><member_id><realm><frequency><variable_id><branding_suffix><grid_label><version>\",\n",
    "    \"output_file_template\": \"<variable_id><branding_suffix><frequency><region><grid_label><source_id><experiment_id><variant_label>\",\n",
    "}\n",
    "\n",
    "with open('input.json', 'w') as fh:\n",
    "    json.dump(DATASET_INFO, fh, indent=2)"
   ]
  },
  {
   "cell_type": "code",
   "execution_count": 4,
   "id": "ea8c425e-0b11-4a7d-aab0-cf95df843d9f",
   "metadata": {},
   "outputs": [
    {
     "name": "stdout",
     "output_type": "stream",
     "text": [
      "CPU times: user 1e+03 ns, sys: 0 ns, total: 1e+03 ns\n",
      "Wall time: 1.91 μs\n"
     ]
    }
   ],
   "source": [
    "%time\n",
    "cmor.setup(inpath=\"development-tables\", netcdf_file_action=cmor.CMOR_REPLACE)\n",
    "\n",
    "cmor.dataset_json('input.json')\n",
    "\n",
    "tos = numpy.array([27, 27, 27, 27,\n",
    "                    27, 27, 27, 27,\n",
    "                    27, 27, 27, 27,\n",
    "                    27, 27, 27, 27,\n",
    "                    27, 27, 27, 27,\n",
    "                    27, 27, 27, 27\n",
    "                    ])\n",
    "tos.shape = (2, 3, 4)\n",
    "lat = numpy.array([10, 20, 30])\n",
    "lat_bnds = numpy.array([5, 15, 25, 35])\n",
    "lon = numpy.array([0, 90, 180, 270])\n",
    "lon_bnds = numpy.array([-45, 45,\n",
    "                        135,\n",
    "                        225,\n",
    "                        315\n",
    "                        ])\n",
    "time = numpy.array([15.5, 16.5])\n",
    "time_bnds = numpy.array([15, 16, 17])"
   ]
  },
  {
   "cell_type": "code",
   "execution_count": 5,
   "id": "7cadff79-d0df-4fbd-8543-da5e96e13a30",
   "metadata": {},
   "outputs": [
    {
     "name": "stdout",
     "output_type": "stream",
     "text": [
      "CPU times: user 1e+03 ns, sys: 1 μs, total: 2 μs\n",
      "Wall time: 3.1 μs\n"
     ]
    },
    {
     "name": "stderr",
     "output_type": "stream",
     "text": [
      "\n",
      "\u001b[2;34;47mC Traceback:\n",
      "In function: cmor_load_table_internal\n",
      "! \u001b[0m\n",
      "\n",
      "\u001b[1;34;47m!!!!!!!!!!!!!!!!!!!!!!!!!\n",
      "!\n",
      "! Warning: unknown section: version_metadata, for table: ocean\n",
      "!\n",
      "!!!!!!!!!!!!!!!!!!!!!!!!!\u001b[0m\n",
      "\n",
      "\n",
      "\u001b[2;34;47mC Traceback:\n",
      "In function: cmor_load_table_internal\n",
      "! \u001b[0m\n",
      "\n",
      "\u001b[1;34;47m!!!!!!!!!!!!!!!!!!!!!!!!!\n",
      "!\n",
      "! Warning: attribute for unknown section: version_metadata,{ \"version_tag\": \"v6.5.0.0\", \"checksum\": \"md5: c4c59dea7b58b910a6dc5345e31638f6\", \"Auxillary_files\\/MIP_formula_terms_modified\": \"Tue Nov 28 21:14:07 2023 +0000\", \"Auxillary_files\\/MIP_formula_terms_note\": \"Updating versioning and model_components scripts to process files individually.\", \"commit\": \"50ee06a3b58fb2b064485d454203766327f4d770\", \"previous_commit\": \"\", \"author\": \"Daniel Ellis\", \"CV_collection_version\": \"v6.5.1.1\", \"specs_doc\": \"v6.5.0\" } (table: ocean)\n",
      "!\n",
      "!!!!!!!!!!!!!!!!!!!!!!!!!\u001b[0m\n",
      "\n"
     ]
    },
    {
     "data": {
      "text/plain": [
       "0"
      ]
     },
     "execution_count": 5,
     "metadata": {},
     "output_type": "execute_result"
    }
   ],
   "source": [
    "%time\n",
    "cmor.load_table(\"CMIP7_ocean.json\")"
   ]
  },
  {
   "cell_type": "code",
   "execution_count": 6,
   "id": "c4590918-dc87-498b-a491-fa5c793b7423",
   "metadata": {},
   "outputs": [
    {
     "name": "stdout",
     "output_type": "stream",
     "text": [
      "CPU times: user 1e+03 ns, sys: 0 ns, total: 1e+03 ns\n",
      "Wall time: 2.86 μs\n"
     ]
    }
   ],
   "source": [
    "%time\n",
    "cmorlat = cmor.axis(\"latitude\",\n",
    "                    coord_vals=lat,\n",
    "                    cell_bounds=lat_bnds,\n",
    "                    units=\"degrees_north\")\n",
    "cmorlon = cmor.axis(\"longitude\",\n",
    "                    coord_vals=lon,\n",
    "                    cell_bounds=lon_bnds,\n",
    "                    units=\"degrees_east\")\n",
    "cmortime = cmor.axis(\"time\",\n",
    "                    coord_vals=time,\n",
    "                    cell_bounds=time_bnds,\n",
    "                    units=\"days since 2018\")\n",
    "axes = [cmortime, cmorlat, cmorlon]"
   ]
  },
  {
   "cell_type": "code",
   "execution_count": 7,
   "id": "8e979027-9e52-48e0-b5cc-aa414362cdf3",
   "metadata": {},
   "outputs": [],
   "source": [
    "cmortos = cmor.variable(\"tos_tavg-u-hxy-sea\", \"degC\", axes)"
   ]
  },
  {
   "cell_type": "code",
   "execution_count": 8,
   "id": "f779b96a-20f7-4e5a-b915-c1755b8d9d1d",
   "metadata": {},
   "outputs": [
    {
     "name": "stderr",
     "output_type": "stream",
     "text": [
      "\n",
      "\u001b[2;34;47mC Traceback:\n",
      "In function: cmor_close_variable\n",
      "! \u001b[0m\n",
      "\n",
      "\u001b[1;34;47m!!!!!!!!!!!!!!!!!!!!!!!!!\n",
      "!\n",
      "! Warning: while closing variable 0 (tos, table ocean)\n",
      "! we noticed you wrote 0 time steps for the variable,\n",
      "! but its time axis 0 (time) has 2 time steps\n",
      "!\n",
      "!!!!!!!!!!!!!!!!!!!!!!!!!\u001b[0m\n",
      "\n"
     ]
    }
   ],
   "source": [
    "cmor.write(cmortos, tos)\n",
    "filename = cmor.close(cmortos, file_name=True)"
   ]
  },
  {
   "cell_type": "markdown",
   "id": "71cd04d0-ea27-4877-b259-adf84bf3b694",
   "metadata": {},
   "source": [
    "# Locate generated file"
   ]
  },
  {
   "cell_type": "code",
   "execution_count": 9,
   "id": "325b17ff-f535-4553-919a-40ed099c8378",
   "metadata": {},
   "outputs": [
    {
     "name": "stdout",
     "output_type": "stream",
     "text": [
      "CMIP7/CMIP/PCMDI-test-1-0/1pctCO2/r9i1p1f3/ocean/day/tos/tavg-u-hxy-sea/gn/v20250609/tos_tavg-u-hxy-sea_day_glb_gn_PCMDI-test-1-0_1pctCO2_r9i1p1f3_20180116-20180117.nc\n"
     ]
    }
   ],
   "source": [
    "!find CMIP7 -type f -name *.nc"
   ]
  },
  {
   "cell_type": "markdown",
   "id": "f7a3343c-95d6-4b94-b8b0-d9f4f35356e4",
   "metadata": {},
   "source": [
    "# Dump header of generated file"
   ]
  },
  {
   "cell_type": "code",
   "execution_count": 10,
   "id": "0a6aee11-0970-405d-9b47-b03e190f21aa",
   "metadata": {},
   "outputs": [
    {
     "name": "stdout",
     "output_type": "stream",
     "text": [
      "/Users/durack1/sync/git/cmip7-development-mip-tables\n",
      "netcdf tos_tavg-u-hxy-sea_day_glb_gn_PCMDI-test-1-0_1pctCO2_r9i1p1f3_20180116-20180117 {\n",
      "dimensions:\n",
      "\ttime = UNLIMITED ; // (2 currently)\n",
      "\tlat = 3 ;\n",
      "\tlon = 4 ;\n",
      "\tbnds = 2 ;\n",
      "variables:\n",
      "\tdouble time(time) ;\n",
      "\t\ttime:bounds = \"time_bnds\" ;\n",
      "\t\ttime:units = \"days since 2018\" ;\n",
      "\t\ttime:calendar = \"360_day\" ;\n",
      "\t\ttime:axis = \"T\" ;\n",
      "\t\ttime:long_name = \"Time Intervals\" ;\n",
      "\t\ttime:standard_name = \"time\" ;\n",
      "\tdouble time_bnds(time, bnds) ;\n",
      "\tdouble lat(lat) ;\n",
      "\t\tlat:bounds = \"lat_bnds\" ;\n",
      "\t\tlat:units = \"degrees_north\" ;\n",
      "\t\tlat:axis = \"Y\" ;\n",
      "\t\tlat:long_name = \"Latitude\" ;\n",
      "\t\tlat:standard_name = \"latitude\" ;\n",
      "\tdouble lat_bnds(lat, bnds) ;\n",
      "\tdouble lon(lon) ;\n",
      "\t\tlon:bounds = \"lon_bnds\" ;\n",
      "\t\tlon:units = \"degrees_east\" ;\n",
      "\t\tlon:axis = \"X\" ;\n",
      "\t\tlon:long_name = \"Longitude\" ;\n",
      "\t\tlon:standard_name = \"longitude\" ;\n",
      "\tdouble lon_bnds(lon, bnds) ;\n",
      "\tfloat tos(time, lat, lon) ;\n",
      "\t\ttos:standard_name = \"sea_surface_temperature\" ;\n",
      "\t\ttos:long_name = \"Sea Surface Temperature\" ;\n",
      "\t\ttos:brand_description = \"?\" ;\n",
      "\t\ttos:comment = \"This may differ from \\\"surface temperature\\\" in regions of sea ice or floating ice shelves. For models using conservative temperature as the prognostic field, they should report the top ocean layer as surface potential temperature, which is the same as surface in situ temperature.\" ;\n",
      "\t\ttos:units = \"degC\" ;\n",
      "\t\ttos:cell_methods = \"area: mean where sea time: mean\" ;\n",
      "\t\ttos:cell_measures = \"area: areacello\" ;\n",
      "\t\ttos:missing_value = 1.e+20f ;\n",
      "\t\ttos:_FillValue = 1.e+20f ;\n",
      "\t\ttos:history = \"2025-06-09T17:10:28Z altered by CMOR: Converted type from \\'l\\' to \\'f\\'.\" ;\n",
      "\n",
      "// global attributes:\n",
      "\t\t:Conventions = \"CMIP7-TESTING\" ;\n",
      "\t\t:activity_id = \"CMIP\" ;\n",
      "\t\t:archive_id = \"WCRP\" ;\n",
      "\t\t:area_label = \"sea\" ;\n",
      "\t\t:branch_method = \"standard\" ;\n",
      "\t\t:branch_time_in_child = 30. ;\n",
      "\t\t:branch_time_in_parent = 10800. ;\n",
      "\t\t:branding_suffix = \"tavg-u-hxy-sea\" ;\n",
      "\t\t:creation_date = \"2025-06-09T17:10:28Z\" ;\n",
      "\t\t:cv_version = \"7.0.0.0\" ;\n",
      "\t\t:data_specs_version = \"CMIP-7.0.0.0\" ;\n",
      "\t\t:description = \"DECK: 1pctCO2\" ;\n",
      "\t\t:experiment = \"1 percent per year increase in CO2\" ;\n",
      "\t\t:experiment_id = \"1pctCO2\" ;\n",
      "\t\t:external_variables = \"areacello\" ;\n",
      "\t\t:forcing_index = 3 ;\n",
      "\t\t:frequency = \"day\" ;\n",
      "\t\t:grid = \"N96\" ;\n",
      "\t\t:grid_label = \"gn\" ;\n",
      "\t\t:history = \"2025-06-09T17:10:28Z ; CMOR rewrote data to be consistent with CMIP7, CMIP7-TESTING and CF standards.\" ;\n",
      "\t\t:horizontal_label = \"hxy\" ;\n",
      "\t\t:host_collection = \"CMIP7\" ;\n",
      "\t\t:initialization_index = 1 ;\n",
      "\t\t:institution = \"Program for Climate Model Diagnosis and Intercomparison, Lawrence Livermore National Laboratory, Livermore, CA 94550, USA\" ;\n",
      "\t\t:institution_id = \"PCMDI\" ;\n",
      "\t\t:label = \"PCMDI-test 1.0\" ;\n",
      "\t\t:label_extended = \"PCMDI-test 1.0 (This entry is free text for users to contribute verbose information)\" ;\n",
      "\t\t:license_id = \"CC BY 4.0\" ;\n",
      "\t\t:license_type = \"Creative Commons Attribution 4.0 International\" ;\n",
      "\t\t:license_url = \"https://creativecommons.org/licenses/by/4.0/\" ;\n",
      "\t\t:min_number_yrs_per_sim = \"150\" ;\n",
      "\t\t:mip_era = \"CMIP7\" ;\n",
      "\t\t:nominal_resolution = \"250 km\" ;\n",
      "\t\t:parent_activity_id = \"CMIP\" ;\n",
      "\t\t:parent_experiment_id = \"piControl\" ;\n",
      "\t\t:parent_mip_era = \"CMIP7\" ;\n",
      "\t\t:parent_source_id = \"PCMDI-test-1-0\" ;\n",
      "\t\t:parent_time_units = \"days since 1850-01-01\" ;\n",
      "\t\t:parent_variant_label = \"r1i1p1f3\" ;\n",
      "\t\t:physics_index = 1 ;\n",
      "\t\t:product = \"model-output\" ;\n",
      "\t\t:realization_index = 9 ;\n",
      "\t\t:realm = \"ocean\" ;\n",
      "\t\t:region = \"glb\" ;\n",
      "\t\t:release_year = \"1989\" ;\n",
      "\t\t:source = \"PCMDI-test 1.0 (1989): \\n\",\n",
      "\t\t\t\"aerosol: none\\n\",\n",
      "\t\t\t\"atmos: Earth1.0-gettingHotter (360 x 180 longitude/latitude; 50 levels; top level 0.1 mb)\\n\",\n",
      "\t\t\t\"atmosChem: none\\n\",\n",
      "\t\t\t\"land: Earth1.0\\n\",\n",
      "\t\t\t\"landIce: none\\n\",\n",
      "\t\t\t\"ocean: BlueMarble1.0-warming (360 x 180 longitude/latitude; 50 levels; top grid cell 0-10 m)\\n\",\n",
      "\t\t\t\"ocnBgchem: none\\n\",\n",
      "\t\t\t\"seaIce: Declining1.0-warming (360 x 180 longitude/latitude)\" ;\n",
      "\t\t:source_id = \"PCMDI-test-1-0\" ;\n",
      "\t\t:source_type = \"AOGCM CHEM BGC\" ;\n",
      "\t\t:table_id = \"ocean\" ;\n",
      "\t\t:table_info = \"Creation Date:(2025-06-09 14:11:38) MD5:6fc503a41a2ff16fdf8d9aa51431611f\" ;\n",
      "\t\t:temporal_label = \"tavg\" ;\n",
      "\t\t:tier = \"1\" ;\n",
      "\t\t:title = \"PCMDI-test-1-0 output prepared for\" ;\n",
      "\t\t:tracking_id = \"hdl:21.14100/cb0110ce-9fe7-4202-a550-1852e96c225a\" ;\n",
      "\t\t:variable_id = \"tos\" ;\n",
      "\t\t:variant_label = \"r9i1p1f3\" ;\n",
      "\t\t:vertical_label = \"u\" ;\n",
      "\t\t:license = \"CC BY 4.0; CMIP7 data produced by PCMDI is licensed under a Creative Commons Attribution 4.0 International License (https://creativecommons.org/licenses/by/4.0/). Consult https://pcmdi.llnl.gov/CMIP7/TermsOfUse for terms of use governing CMIP7 output, including citation requirements and proper acknowledgment. The data producers and data providers make no warranty, either express or implied, including, but not limited to, warranties of merchantability and fitness for a particular purpose. All liabilities arising from the supply of the information (including any liability arising in negligence) are excluded to the fullest extent permitted by law.\" ;\n",
      "\t\t:cmor_version = \"3.10.0\" ;\n",
      "}\n"
     ]
    }
   ],
   "source": [
    "print(os.getcwd())\n",
    "!ncdump -h CMIP7/CMIP/PCMDI-test-1-0/1pctCO2/r9i1p1f3/ocean/day/tos/tavg-u-hxy-sea/gn/*/tos_tavg-u-hxy-sea_day_glb_gn_PCMDI-test-1-0_1pctCO2_r9i1p1f3_20180116-20180117.nc"
   ]
  },
  {
   "cell_type": "code",
   "execution_count": 11,
   "id": "a8610a45-0034-4c5a-9ba2-a438caeaab6a",
   "metadata": {},
   "outputs": [],
   "source": [
    "# clean up\n",
    "#! rm -rf CMIP7\n",
    "#! rm -rf input.json"
   ]
  }
 ],
 "metadata": {
  "kernelspec": {
   "display_name": "Python 3 (ipykernel)",
   "language": "python",
   "name": "python3"
  },
  "language_info": {
   "codemirror_mode": {
    "name": "ipython",
    "version": 3
   },
   "file_extension": ".py",
   "mimetype": "text/x-python",
   "name": "python",
   "nbconvert_exporter": "python",
   "pygments_lexer": "ipython3",
   "version": "3.12.10"
  }
 },
 "nbformat": 4,
 "nbformat_minor": 5
}
